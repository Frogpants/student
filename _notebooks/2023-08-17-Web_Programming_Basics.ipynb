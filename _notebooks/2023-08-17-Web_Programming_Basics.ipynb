{
 "cells": [
  {
   "cell_type": "markdown",
   "metadata": {},
   "source": [
    "---\n",
    "layout: post\n",
    "title: Web Programming Basics\n",
    "description: Basics of Web Programming\n",
    "courses: { compsci: {week: 6} }\n",
    "type: hacks\n",
    "permalink: /basics/home\n",
    "comments: true\n",
    "---"
   ]
  },
  {
   "cell_type": "code",
   "execution_count": 8,
   "metadata": {
    "vscode": {
     "languageId": "html"
    }
   },
   "outputs": [
    {
     "data": {
      "text/html": [
       "\n",
       "<table>\n",
       "    <tr>\n",
       "        <td><img src=\"/student/images/logo.png\" height=\"60\" title=\"Frontend\" alt=\"\"></td>\n",
       "        <td><a href=\"/student/index.md\">Home</a></td>\n",
       "        <td><a href=\"/student/notebooks/html.ipynb\">HTML</a></td>\n",
       "        <td><a href=\"/student/notebooks/Datatypes.ipynb\">Datatypes</a></td>\n",
       "        <td><a href=\"/student/notebooks/DOM.ipynb\">DOM</a></td>\n",
       "        <td><a href=\"/student/notebooks/javascript.ipynb\">Javascript</a></td>\n",
       "        <td><a href=\"/student/notebooks/js_debugging.ipynb\">Js Debugging</a></td>\n",
       "    </tr>\n",
       "</table>\n"
      ],
      "text/plain": [
       "<IPython.core.display.HTML object>"
      ]
     },
     "metadata": {},
     "output_type": "display_data"
    }
   ],
   "source": [
    "%%html\n",
    "\n",
    "<table>\n",
    "    <tr>\n",
    "        <td><img src=\"student/images/logo.png\" height=\"60\" title=\"Frontend\" alt=\"\"></td>\n",
    "        <td><a href=\"student/index.md\">Home</a></td>\n",
    "        <td><a href=\"student/_notebooks/2023-08-17-html.ipynb\">HTML</a></td>\n",
    "        <td><a href=\"student/_notebooks/2023-08-17-Datatypes.ipynb\">Datatypes</a></td>\n",
    "        <td><a href=\"student/_notebooks/2023-08-17-DOM.ipynb\">DOM</a></td>\n",
    "        <td><a href=\"student/_notebooks/2023-08-17-javascript.ipynb\">Javascript</a></td>\n",
    "        <td><a href=\"student/_notebooks/2023-08-17-js-debugging.ipynb\">Js Debugging</a></td>\n",
    "    </tr>\n",
    "</table>"
   ]
  },
  {
   "cell_type": "markdown",
   "metadata": {
    "vscode": {
     "languageId": "html"
    }
   },
   "source": [
    "# A guide to basic concepts in Web Notebook\n",
    "- Making a menu\n",
    "- Use menu to Guide topics\n",
    "- Make your own custom page and menu\n",
    "- Making a page dynamic through JavaScript\n",
    "- Review usage of Styles in GitHub Pages\n",
    "\n",
    "# How to import this setup into your student repository\n",
    "- NOTE: To copy files between repostories, open two vscode windows and you can drag and drop\n",
    "- Copy the file _includes/nav_basics.html into the _includes folder of your student repository\n",
    "- This creates the navigation between the different pages in the Web Dev Basics\n",
    "- Copy the following files from _notebooks into your _notebooks folder\n",
    "  - 2023-03-28-basics-home.ipynb, 2023-03-28-basics-html.ipynb,2023-03-29-basics-of-js.ipynb, 2023-08-30-basics-of-js-data-types.ipynb, 2023-08-30-basics-js-with-html.ipynb, 2023-09-20-1_4-js-errors.ipynb\n",
    "- In the basics homepage (2023-03-28-basics-home.ipynb), you need to make an edit\n",
    "- In the top cell, modify the courses to say { compsci: { week: 5 } } (this will move this into your schedule page)\n",
    "\n",
    "# Seeing javascript console output in visual studio\n",
    "- When printing outputs from javascript to the console you will need to open the developer console\n",
    "- Go to Help->Toggle Developer Tools and click console on the top bar of the developer window"
   ]
  }
 ],
 "metadata": {
  "kernelspec": {
   "display_name": "Python 3",
   "language": "python",
   "name": "python3"
  },
  "language_info": {
   "codemirror_mode": {
    "name": "ipython",
    "version": 3
   },
   "file_extension": ".py",
   "mimetype": "text/x-python",
   "name": "python",
   "nbconvert_exporter": "python",
   "pygments_lexer": "ipython3",
   "version": "3.10.12"
  },
  "orig_nbformat": 4
 },
 "nbformat": 4,
 "nbformat_minor": 2
}
