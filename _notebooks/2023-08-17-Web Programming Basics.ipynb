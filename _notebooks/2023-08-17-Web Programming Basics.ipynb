{
 "cells": [
  {
   "cell_type": "markdown",
   "metadata": {},
   "source": [
    "---\n",
    "comments: true\n",
    "layout: post\n",
    "title: Web Programming Basics\n",
    "description: \n",
    "type: hacks\n",
    "courses: { compsci: {week: 0} }\n",
    "categories: [C4.1]\n",
    "---"
   ]
  },
  {
   "cell_type": "code",
   "execution_count": 2,
   "metadata": {
    "vscode": {
     "languageId": "html"
    }
   },
   "outputs": [
    {
     "data": {
      "text/html": [
       "<p><button onclick=\"doStuff()\"> Console Log Stuff</button></p>\n",
       "\n",
       "<script>\n",
       "// Create an object representing Trystan Schmits\n",
       "function doStuff(){\n",
       "var person = {\n",
       "    name: \"Spencer Lyons\",\n",
       "    age: 14,\n",
       "    currentClasses: [\"CSSE\", \"Bio 1\", \"ENS\", \"Spanish\", \"Math 1A\"],\n",
       "    interests: [\"Coding\", \"Physics\", \"Engineering\"],\n",
       "    favoriteBooks: [\"Parallel\", \"Harry Potter\"],\n",
       "};\n",
       " \n",
       "// Print the entire object\n",
       "console.log(\"Original Object:\");\n",
       "console.log(person);\n",
       "\n",
       "setTimeout(100);\n",
       "// Manipulate the arrays within the object\n",
       "person.currentClasses.push(\"Spanish 7\");\n",
       "person.interests.splice(2, 1,\"History 3\");\n",
       "\n",
       "// Print the entire object after manipulation\n",
       "console.log(\"\\nObject after Manipulation:\");\n",
       "console.log(person);\n",
       "\n",
       "setTimeout(100);\n",
       "// Perform mathematical operations on fields in the object\n",
       "var ageInFiveYears = person.age + 5;\n",
       "var numberOfClasses = person.currentClasses.length;\n",
       "\n",
       "// Print the results with context\n",
       "console.log(\"\\nMathematical Operations:\");\n",
       "console.log(\"Age in five years:\", ageInFiveYears);\n",
       "console.log(\"Number of current classes:\", numberOfClasses);\n",
       "\n",
       "setTimeout(100);\n",
       "// Use typeof to determine the types of fields\n",
       "var typeOfName = typeof person.name;\n",
       "var typeOfInterests = typeof person.interests;\n",
       "var typeOfAge = typeof person.age;\n",
       "\n",
       "// Print the types of fields\n",
       "console.log(\"\\nTypes of Fields:\");\n",
       "console.log(\"Type of 'name':\", typeOfName);\n",
       "console.log(\"Type of 'interests':\", typeOfInterests);\n",
       "console.log(\"Type of 'age':\", typeOfAge);\n",
       "}\n",
       "</script>\n"
      ],
      "text/plain": [
       "<IPython.core.display.HTML object>"
      ]
     },
     "metadata": {},
     "output_type": "display_data"
    }
   ],
   "source": [
    "%%html\n",
    "<p><button onclick=\"doStuff()\"> Console Log Stuff</button></p>\n",
    "\n",
    "<script>\n",
    "// Create an object representing Trystan Schmits\n",
    "function doStuff(){\n",
    "var person = {\n",
    "    name: \"Spencer Lyons\",\n",
    "    age: 14,\n",
    "    currentClasses: [\"CSSE\", \"Bio 1\", \"ENS\", \"Spanish\", \"Math 1A\"],\n",
    "    interests: [\"Coding\", \"Physics\", \"Engineering\"],\n",
    "    favoriteBooks: [\"Parallel\", \"Harry Potter\"],\n",
    "};\n",
    " \n",
    "// Print the entire object\n",
    "console.log(\"Original Object:\");\n",
    "console.log(person);\n",
    "\n",
    "setTimeout(100);\n",
    "// Manipulate the arrays within the object\n",
    "person.currentClasses.push(\"Spanish 7\");\n",
    "person.interests.splice(2, 1,\"History 3\");\n",
    "\n",
    "// Print the entire object after manipulation\n",
    "console.log(\"\\nObject after Manipulation:\");\n",
    "console.log(person);\n",
    "\n",
    "setTimeout(100);\n",
    "// Perform mathematical operations on fields in the object\n",
    "var ageInFiveYears = person.age + 5;\n",
    "var numberOfClasses = person.currentClasses.length;\n",
    "\n",
    "// Print the results with context\n",
    "console.log(\"\\nMathematical Operations:\");\n",
    "console.log(\"Age in five years:\", ageInFiveYears);\n",
    "console.log(\"Number of current classes:\", numberOfClasses);\n",
    "\n",
    "setTimeout(100);\n",
    "// Use typeof to determine the types of fields\n",
    "var typeOfName = typeof person.name;\n",
    "var typeOfInterests = typeof person.interests;\n",
    "var typeOfAge = typeof person.age;\n",
    "\n",
    "// Print the types of fields\n",
    "console.log(\"\\nTypes of Fields:\");\n",
    "console.log(\"Type of 'name':\", typeOfName);\n",
    "console.log(\"Type of 'interests':\", typeOfInterests);\n",
    "console.log(\"Type of 'age':\", typeOfAge);\n",
    "}\n",
    "</script>"
   ]
  }
 ],
 "metadata": {
  "kernelspec": {
   "display_name": "Python 3",
   "language": "python",
   "name": "python3"
  },
  "language_info": {
   "codemirror_mode": {
    "name": "ipython",
    "version": 3
   },
   "file_extension": ".py",
   "mimetype": "text/x-python",
   "name": "python",
   "nbconvert_exporter": "python",
   "pygments_lexer": "ipython3",
   "version": "3.10.12"
  },
  "orig_nbformat": 4
 },
 "nbformat": 4,
 "nbformat_minor": 2
}
