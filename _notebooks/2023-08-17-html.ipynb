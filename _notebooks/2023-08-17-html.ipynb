{
 "cells": [
  {
   "cell_type": "markdown",
   "metadata": {},
   "source": [
    "---\n",
    "layout: post\n",
    "title: HTML\n",
    "description: html stuff\n",
    "courses: { compsci: {week: 6} }\n",
    "type: hacks\n",
    "permalink: /basics/html\n",
    "comments: true\n",
    "---"
   ]
  },
  {
   "cell_type": "markdown",
   "metadata": {
    "vscode": {
     "languageId": "html"
    }
   },
   "source": [
    "# How does HTML work?\n",
    "Similar function to Markdown, syntax defines how stuff should be displayed\n",
    "\n",
    "- HTML is based on beginning and closing tags <tagname>content</tagname>\n",
    "  - Note the “/” on the ending or closing tag of the pair\n",
    "\n",
    "# Compare markdown to html below\n",
    "This below example shows comparison of a heading and paragraph. Click on links to see many more HTML examples."
   ]
  },
  {
   "cell_type": "code",
   "execution_count": 2,
   "metadata": {
    "vscode": {
     "languageId": "html"
    }
   },
   "outputs": [
    {
     "data": {
      "text/markdown": [
       "\n",
       "### Markdown: This is a heading\n",
       "\n",
       "This is a paragraph\n"
      ],
      "text/plain": [
       "<IPython.core.display.Markdown object>"
      ]
     },
     "metadata": {},
     "output_type": "display_data"
    }
   ],
   "source": [
    "%%markdown\n",
    "\n",
    "### Markdown: This is a heading\n",
    "\n",
    "This is a paragraph"
   ]
  },
  {
   "cell_type": "code",
   "execution_count": 3,
   "metadata": {
    "vscode": {
     "languageId": "html"
    }
   },
   "outputs": [
    {
     "data": {
      "text/html": [
       "\n",
       "<h3>HTML: This is a Heading</h3>\n",
       "<p>This is a paragraph.</p>\n"
      ],
      "text/plain": [
       "<IPython.core.display.HTML object>"
      ]
     },
     "metadata": {},
     "output_type": "display_data"
    }
   ],
   "source": [
    "%%html\n",
    "\n",
    "<h3>HTML: This is a Heading</h3>\n",
    "<p>This is a paragraph.</p>"
   ]
  },
  {
   "cell_type": "markdown",
   "metadata": {},
   "source": [
    "# Attributes\n",
    "\n",
    "- Learn about attributes\n",
    "- Tags can have additional info in the form of attributes\n",
    "- Attributes usually come in name/value pairs like: name=”value”"
   ]
  },
  {
   "cell_type": "code",
   "execution_count": 4,
   "metadata": {
    "vscode": {
     "languageId": "html"
    }
   },
   "outputs": [
    {
     "ename": "SyntaxError",
     "evalue": "invalid syntax (1482544360.py, line 1)",
     "output_type": "error",
     "traceback": [
      "\u001b[0;36m  File \u001b[0;32m\"/tmp/ipykernel_8958/1482544360.py\"\u001b[0;36m, line \u001b[0;32m1\u001b[0m\n\u001b[0;31m    <tagname attribute_name=\"attribute_value\" another_attribute=\"another_value\">inner html text</tagname>\u001b[0m\n\u001b[0m    ^\u001b[0m\n\u001b[0;31mSyntaxError\u001b[0m\u001b[0;31m:\u001b[0m invalid syntax\n"
     ]
    }
   ],
   "source": [
    "<tagname attribute_name=\"attribute_value\" another_attribute=\"another_value\">inner html text</tagname>"
   ]
  },
  {
   "cell_type": "markdown",
   "metadata": {},
   "source": [
    "- href example with attribute for web link and inner html to describe link"
   ]
  },
  {
   "cell_type": "code",
   "execution_count": 5,
   "metadata": {
    "vscode": {
     "languageId": "html"
    }
   },
   "outputs": [
    {
     "ename": "SyntaxError",
     "evalue": "invalid syntax (2740664343.py, line 1)",
     "output_type": "error",
     "traceback": [
      "\u001b[0;36m  File \u001b[0;32m\"/tmp/ipykernel_8958/2740664343.py\"\u001b[0;36m, line \u001b[0;32m1\u001b[0m\n\u001b[0;31m    <a href=\"https://www.w3schools.com/html/default.asp\">Visit W3Schools HTML Page</a>\u001b[0m\n\u001b[0m    ^\u001b[0m\n\u001b[0;31mSyntaxError\u001b[0m\u001b[0;31m:\u001b[0m invalid syntax\n"
     ]
    }
   ],
   "source": [
    "<a href=\"https://www.w3schools.com/html/default.asp\">Visit W3Schools HTML Page</a>"
   ]
  },
  {
   "cell_type": "markdown",
   "metadata": {},
   "source": [
    "# Sample Markdown vs HTML Tags\n",
    "\n",
    "Image Tag - Markdown"
   ]
  },
  {
   "cell_type": "code",
   "execution_count": 6,
   "metadata": {
    "vscode": {
     "languageId": "html"
    }
   },
   "outputs": [
    {
     "name": "stdout",
     "output_type": "stream",
     "text": [
      "/bin/bash: -c: line 1: syntax error near unexpected token `('\n",
      "/bin/bash: -c: line 1: `[describe image](link to image)'\n"
     ]
    }
   ],
   "source": [
    "![describe image](link to image)"
   ]
  },
  {
   "cell_type": "markdown",
   "metadata": {},
   "source": [
    "Image Tag - HTML"
   ]
  },
  {
   "cell_type": "code",
   "execution_count": 7,
   "metadata": {
    "vscode": {
     "languageId": "html"
    }
   },
   "outputs": [
    {
     "ename": "SyntaxError",
     "evalue": "invalid syntax (617500658.py, line 1)",
     "output_type": "error",
     "traceback": [
      "\u001b[0;36m  File \u001b[0;32m\"/tmp/ipykernel_8958/617500658.py\"\u001b[0;36m, line \u001b[0;32m1\u001b[0m\n\u001b[0;31m    <!-- no content so no end tag, width/height is optional (in pixels) -->\u001b[0m\n\u001b[0m    ^\u001b[0m\n\u001b[0;31mSyntaxError\u001b[0m\u001b[0;31m:\u001b[0m invalid syntax\n"
     ]
    }
   ],
   "source": [
    "<!-- no content so no end tag, width/height is optional (in pixels) -->\n",
    "<img alt=\"describe image\" src=\"link to image\" width=\"100\" height=\"200\">"
   ]
  },
  {
   "cell_type": "markdown",
   "metadata": {},
   "source": [
    "Link Tag - Markdown"
   ]
  },
  {
   "cell_type": "code",
   "execution_count": null,
   "metadata": {
    "vscode": {
     "languageId": "html"
    }
   },
   "outputs": [],
   "source": [
    "[link text](link)"
   ]
  },
  {
   "cell_type": "markdown",
   "metadata": {},
   "source": [
    "Link Tag - HTML"
   ]
  },
  {
   "cell_type": "code",
   "execution_count": null,
   "metadata": {
    "vscode": {
     "languageId": "html"
    }
   },
   "outputs": [],
   "source": [
    "<a href=\"link\">link text</a>"
   ]
  },
  {
   "cell_type": "markdown",
   "metadata": {},
   "source": [
    "Bolded Text - Markdown"
   ]
  },
  {
   "cell_type": "code",
   "execution_count": null,
   "metadata": {
    "vscode": {
     "languageId": "html"
    }
   },
   "outputs": [],
   "source": [
    "**Bolded Text**"
   ]
  },
  {
   "cell_type": "markdown",
   "metadata": {},
   "source": [
    "Bolded Text - HTML"
   ]
  },
  {
   "cell_type": "code",
   "execution_count": null,
   "metadata": {
    "vscode": {
     "languageId": "html"
    }
   },
   "outputs": [],
   "source": [
    "<strong>Bolded Text</strong>"
   ]
  },
  {
   "cell_type": "markdown",
   "metadata": {},
   "source": [
    "Italic Text - Markdown"
   ]
  },
  {
   "cell_type": "code",
   "execution_count": null,
   "metadata": {
    "vscode": {
     "languageId": "html"
    }
   },
   "outputs": [],
   "source": [
    "*Italic Text*"
   ]
  },
  {
   "cell_type": "markdown",
   "metadata": {},
   "source": [
    "Italic Text - HTML"
   ]
  },
  {
   "cell_type": "code",
   "execution_count": null,
   "metadata": {
    "vscode": {
     "languageId": "html"
    }
   },
   "outputs": [],
   "source": [
    "<i>Italic Text</i>"
   ]
  },
  {
   "cell_type": "markdown",
   "metadata": {},
   "source": [
    "# More tags\n",
    "\n",
    "\"p\" tag (just represeants a paragraph/normal text)"
   ]
  },
  {
   "cell_type": "code",
   "execution_count": null,
   "metadata": {
    "vscode": {
     "languageId": "html"
    }
   },
   "outputs": [],
   "source": [
    "<p>This is a paragraph</p>"
   ]
  },
  {
   "cell_type": "markdown",
   "metadata": {},
   "source": [
    "Button"
   ]
  },
  {
   "cell_type": "code",
   "execution_count": null,
   "metadata": {
    "vscode": {
     "languageId": "html"
    }
   },
   "outputs": [],
   "source": [
    "<p>This is a paragraph</p>"
   ]
  },
  {
   "cell_type": "markdown",
   "metadata": {},
   "source": [
    "Div (groups together related content)"
   ]
  },
  {
   "cell_type": "code",
   "execution_count": null,
   "metadata": {
    "vscode": {
     "languageId": "html"
    }
   },
   "outputs": [],
   "source": [
    "<!-- first information -->\n",
    "<div>\n",
    "    <!-- notice how tags can be put INSIDE eachother -->\n",
    "    <p>This is the first paragarph of section 1</p>\n",
    "    <p>This is the second paragraph of section 1</p>\n",
    "</div>\n",
    "\n",
    "<!-- second information -->\n",
    "<div>\n",
    "    <!-- notice how tags can be put INSIDE eachother -->\n",
    "    <p>This is the first paragarph of section 2</p>\n",
    "    <p>This is the second paragraph of section 2</p>\n",
    "</div>"
   ]
  },
  {
   "cell_type": "markdown",
   "metadata": {},
   "source": [
    "# Resources\n",
    "- https://www.w3schools.com/html/default.asp\n",
    "- I will show a demo of how to find information on this website\n",
    "# HTML Hacks\n",
    "- Below is a wireframe for an HTML element you will create. A wireframe is a rough visual representation of HTML elements on a page and isn’t necessarily to scale or have the exact styling that the final HTML will have. Using the syntax above, try to create an HTML snippet that corresponds to the below wireframe.\n",
    "- The “a tags” can contain any links that you want"
   ]
  },
  {
   "cell_type": "code",
   "execution_count": 8,
   "metadata": {
    "vscode": {
     "languageId": "html"
    }
   },
   "outputs": [
    {
     "data": {
      "text/html": [
       "<!DOCTYPE html>\n",
       "<html>\n",
       "\n",
       "<head>\n",
       "    <style>\n",
       "        .div1 {\n",
       "            border: none;\n",
       "            background-color: white;\n",
       "            text-align: left;\n",
       "            color: black;\n",
       "            padding-top: 5px;\n",
       "            padding-bottom: 10px;\n",
       "            padding-left: 15px;\n",
       "            padding-right: 15px;\n",
       "            margin-bottom: 10px;\n",
       "        }\n",
       "\n",
       "        .div2 {\n",
       "            border: 5px outset blue;\n",
       "            background-color: white;\n",
       "            text-align: left;\n",
       "            color: black;\n",
       "            padding-top: 15px;\n",
       "            padding-bottom: 5px;\n",
       "            padding-left: 15px;\n",
       "            padding-right: 15px;\n",
       "        }\n",
       "    </style>\n",
       "</head>\n",
       "\n",
       "<body>\n",
       "    <div class=\"div1\">\n",
       "        <p id=\"toggleParagraph\">Click this button to toggle visibility</p>\n",
       "        <button onclick=\"toggleVisibility()\">This is a button</button>\n",
       "    </div>\n",
       "    <div class=\"div2\">\n",
       "        <a target=\"_blank\" href=\"https://frogpants.github.io/student/\">Link to Spencer's page</a><br>\n",
       "        <a target=\"_blank\" href=\"https://seannakagawa.github.io/student/\">Link to Sean's page</a><br>\n",
       "        <a target=\"_blank\" href=\"https://github.com/Trystan-Schmits/Student1\">Link to Trystan's page</a><br>\n",
       "        <a target=\"_blank\" href=\"https://zafeera123.github.io/ZafeerA123/\">Link to Zafeer's page</a><br>\n",
       "        <a target=\"_blank\" href=\"INPUT GAME LINK\">Link to our game</a>\n",
       "        <p>The name of our game is..</p>\n",
       "    </div>\n",
       "\n",
       "    <script>\n",
       "        function toggleVisibility() {\n",
       "            // Get the paragraph element\n",
       "            var paragraph = document.getElementById('toggleParagraph');\n",
       "\n",
       "            // Toggle visibility\n",
       "            paragraph.style.display = (paragraph.style.display === 'none') ? 'block' : 'none';\n",
       "        }\n",
       "    </script>\n",
       "</body>\n",
       "\n",
       "</html>\n"
      ],
      "text/plain": [
       "<IPython.core.display.HTML object>"
      ]
     },
     "metadata": {},
     "output_type": "display_data"
    }
   ],
   "source": [
    "%%html\n",
    "\n",
    "<html>\n",
    "<head>\n",
    "    <style>\n",
    "        .div1 {\n",
    "            border: none;\n",
    "            background-color: white;\n",
    "            text-align: left;\n",
    "            color: black;\n",
    "            padding-top: 5px;\n",
    "            padding-bottom: 10px;\n",
    "            padding-left: 15px;\n",
    "            padding-right: 15px;\n",
    "            margin-bottom: 10px;\n",
    "        }\n",
    "\n",
    "        .div2 {\n",
    "            border: 5px outset blue;\n",
    "            background-color: white;\n",
    "            text-align: left;\n",
    "            color: black;\n",
    "            padding-top: 15px;\n",
    "            padding-bottom: 5px;\n",
    "            padding-left: 15px;\n",
    "            padding-right: 15px;\n",
    "        }\n",
    "    </style>\n",
    "</head>\n",
    "\n",
    "<body>\n",
    "    <div class=\"div1\">\n",
    "        <p id=\"toggleParagraph\">Click this button to toggle visibility</p>\n",
    "        <button onclick=\"toggleVisibility()\">This is a button</button>\n",
    "    </div>\n",
    "    <div class=\"div2\">\n",
    "        <a target=\"_blank\" href=\"https://frogpants.github.io/student/\">Link to Spencer's page</a><br>\n",
    "        <a target=\"_blank\" href=\"https://seannakagawa.github.io/student/\">Link to Sean's page</a><br>\n",
    "        <a target=\"_blank\" href=\"https://github.com/Trystan-Schmits/Student1\">Link to Trystan's page</a><br>\n",
    "        <a target=\"_blank\" href=\"https://zafeera123.github.io/ZafeerA123/\">Link to Zafeer's page</a><br>\n",
    "        <a target=\"_blank\" href=\"INPUT GAME LINK\">Link to our game</a>\n",
    "        <p>The name of our game is... </p>\n",
    "    </div>\n",
    "\n",
    "    <script>\n",
    "        function toggleVisibility() {\n",
    "            // Get the paragraph element\n",
    "            var paragraph = document.getElementById('toggleParagraph');\n",
    "\n",
    "            // Toggle visibility\n",
    "            paragraph.style.display = (paragraph.style.display === 'none') ? 'block' : 'none';\n",
    "        }\n",
    "    </script>\n",
    "</body>\n",
    "\n",
    "</html>"
   ]
  }
 ],
 "metadata": {
  "kernelspec": {
   "display_name": "Python 3",
   "language": "python",
   "name": "python3"
  },
  "language_info": {
   "codemirror_mode": {
    "name": "ipython",
    "version": 3
   },
   "file_extension": ".py",
   "mimetype": "text/x-python",
   "name": "python",
   "nbconvert_exporter": "python",
   "pygments_lexer": "ipython3",
   "version": "3.10.12"
  },
  "orig_nbformat": 4
 },
 "nbformat": 4,
 "nbformat_minor": 2
}
